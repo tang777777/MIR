{
 "cells": [
  {
   "cell_type": "code",
   "execution_count": 1,
   "id": "2e9a4721",
   "metadata": {},
   "outputs": [
    {
     "name": "stdout",
     "output_type": "stream",
     "text": [
      "Processing complete. The edited data is saved in GEN_ZINC_10k_LEN_10.csv.\n"
     ]
    }
   ],
   "source": [
    "import csv\n",
    "\n",
    "# Define the input and output file paths\n",
    "input_file_path = 'ZINC_10k_LEN_10.csv'\n",
    "output_file_path = 'GEN_ZINC_10k_LEN_10.csv'\n",
    "\n",
    "# Read from the input CSV, process, and write to the output CSV\n",
    "with open(input_file_path, mode='r', newline='') as infile, \\\n",
    "     open(output_file_path, mode='w', newline='') as outfile:\n",
    "    reader = csv.reader(infile, delimiter=';')\n",
    "    writer = csv.writer(outfile, delimiter=';')\n",
    "    \n",
    "    for row in reader:\n",
    "        if len(row) == 3:\n",
    "            # Replace the first part with '*', the second with the third, and keep the third unchanged\n",
    "            new_row = ['*', row[2], row[2]]\n",
    "            writer.writerow(new_row)\n",
    "\n",
    "print(\"Processing complete. The edited data is saved in GEN_ZINC_10k_LEN_10.csv.\")"
   ]
  }
 ],
 "metadata": {
  "kernelspec": {
   "display_name": "Python 3",
   "language": "python",
   "name": "python3"
  },
  "language_info": {
   "codemirror_mode": {
    "name": "ipython",
    "version": 3
   },
   "file_extension": ".py",
   "mimetype": "text/x-python",
   "name": "python",
   "nbconvert_exporter": "python",
   "pygments_lexer": "ipython3",
   "version": "3.8.19"
  }
 },
 "nbformat": 4,
 "nbformat_minor": 5
}
