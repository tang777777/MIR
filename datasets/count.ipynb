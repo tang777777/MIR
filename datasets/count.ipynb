{
 "cells": [
  {
   "cell_type": "code",
   "execution_count": 1,
   "id": "615920ad",
   "metadata": {},
   "outputs": [],
   "source": [
    "import pandas as pd\n",
    "\n",
    "def compare_smiles_and_decorations(file1, file2):\n",
    "    # Load the data from both files, assuming the data is separated by semicolons in a single column\n",
    "    df1 = pd.read_csv(file1, header=None, sep=';', names=['scaffold', 'decorations', 'smiles'])\n",
    "    df2 = pd.read_csv(file2, header=None, sep=';', names=['scaffold', 'decorations', 'smiles'])\n",
    "    \n",
    "    # Sort and reset index for reliable comparison\n",
    "    df1_sorted = df1.sort_values(by='smiles').reset_index(drop=True)\n",
    "    df2_sorted = df2.sort_values(by='smiles').reset_index(drop=True)\n",
    "    \n",
    "    # Check if all 'smiles' in both files match and if 'smiles' matches 'decorations' in df2\n",
    "    if (df1_sorted['smiles'].equals(df2_sorted['smiles'])) and (df2_sorted['smiles'].equals(df2_sorted['decorations'])):\n",
    "        print('ALL the smiles and decorations in the second file are the same as the smiles in the first.')  \n",
    "        \n",
    "        # Calculate statistics for 'smiles' from the second file\n",
    "        smiles_lengths = df2_sorted['smiles'].str.len()\n",
    "        max_length = smiles_lengths.max()\n",
    "        mean_length = smiles_lengths.mean()\n",
    "        min_length = smiles_lengths.min()\n",
    "\n",
    "        # Return results including statistics\n",
    "        return {\n",
    "            'all_smiles_and_decorations_match': True,\n",
    "            'max_length': max_length,\n",
    "            'mean_length': mean_length,\n",
    "            'min_length': min_length\n",
    "        }\n",
    "    else:\n",
    "        print('Not all smiles match between the files or smiles do not match decorations in the second file.')\n",
    "        return {'all_smiles_and_decorations_match': False}"
   ]
  },
  {
   "cell_type": "code",
   "execution_count": 2,
   "id": "e55773bb",
   "metadata": {},
   "outputs": [
    {
     "name": "stdout",
     "output_type": "stream",
     "text": [
      "ALL the smiles and decorations in the second file are the same as the smiles in the first.\n",
      "{'all_smiles_and_decorations_match': True, 'max_length': 30, 'mean_length': 14.4709, 'min_length': 8}\n"
     ]
    }
   ],
   "source": [
    "# Usage example:\n",
    "qm9_original = 'QM9_10k_LEN_3.csv'\n",
    "qm9_gen = 'GEN_QM9_10k_LEN_3.csv'\n",
    "result = compare_smiles_and_decorations(qm9_original, qm9_gen)\n",
    "print(result)"
   ]
  },
  {
   "cell_type": "code",
   "execution_count": 3,
   "id": "53cb057f",
   "metadata": {},
   "outputs": [
    {
     "name": "stdout",
     "output_type": "stream",
     "text": [
      "ALL the smiles and decorations in the second file are the same as the smiles in the first.\n",
      "{'all_smiles_and_decorations_match': True, 'max_length': 69, 'mean_length': 37.8216, 'min_length': 22}\n"
     ]
    }
   ],
   "source": [
    "# Usage example:\n",
    "zinc_original = 'ZINC_10k_LEN_10.csv'\n",
    "zinc_gen = 'GEN_ZINC_10k_LEN_10.csv'\n",
    "result = compare_smiles_and_decorations(zinc_original, zinc_gen)\n",
    "print(result)"
   ]
  }
 ],
 "metadata": {
  "kernelspec": {
   "display_name": "Python 3",
   "language": "python",
   "name": "python3"
  },
  "language_info": {
   "codemirror_mode": {
    "name": "ipython",
    "version": 3
   },
   "file_extension": ".py",
   "mimetype": "text/x-python",
   "name": "python",
   "nbconvert_exporter": "python",
   "pygments_lexer": "ipython3",
   "version": "3.8.19"
  }
 },
 "nbformat": 4,
 "nbformat_minor": 5
}
