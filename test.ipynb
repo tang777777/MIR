{
 "cells": [
  {
   "cell_type": "code",
   "execution_count": 2,
   "id": "be262f25",
   "metadata": {},
   "outputs": [
    {
     "name": "stderr",
     "output_type": "stream",
     "text": [
      "Processing SMILES: 100%|██████████| 3/3 [00:00<00:00, 2978.20it/s]"
     ]
    },
    {
     "name": "stdout",
     "output_type": "stream",
     "text": [
      "SMILES: CCc1nc(CCCC(=O)Nc2ccc(F)cc2F)cs1\n",
      "Matches by wrong function:  {(0, 1), (1, 2), (10, 11), (8, 10), (6, 7), (4, 5), (5, 6), (17, 18), (14, 15), (7, 8)}\n",
      "Matches by corrected function:  {(0, 1), (1, 2), (10, 11), (8, 10), (6, 7), (4, 5), (5, 6), (17, 18), (14, 15), (7, 8)}\n",
      "Results are the same: True\n",
      "SMILES: CN(C)c1ccc(C(=O)Nc2ccc(Cl)cc2Cl)cc1\n",
      "Matches by wrong function:  {(0, 1), (9, 10), (13, 14), (1, 2), (7, 9), (6, 7), (1, 3), (16, 17)}\n",
      "Matches by corrected function:  {(0, 1), (9, 10), (13, 14), (1, 2), (7, 9), (6, 7), (1, 3), (16, 17)}\n",
      "Results are the same: True\n",
      "SMILES: CN(C)c1ccc(C(=O)Nc2ccc(Cl)cc2Cl)cc1\n",
      "Matches by wrong function:  {(0, 1), (9, 10), (13, 14), (1, 2), (7, 9), (6, 7), (1, 3), (16, 17)}\n",
      "Matches by corrected function:  {(0, 1), (9, 10), (13, 14), (1, 2), (7, 9), (6, 7), (1, 3), (16, 17)}\n",
      "Results are the same: True\n"
     ]
    },
    {
     "name": "stderr",
     "output_type": "stream",
     "text": [
      "\n"
     ]
    }
   ],
   "source": [
    "import warnings\n",
    "import itertools\n",
    "from tqdm import tqdm\n",
    "from rdkit import Chem, rdBase\n",
    "\n",
    "warnings.filterwarnings('ignore')\n",
    "rdBase.DisableLog('rdApp.error')\n",
    "\n",
    "SMILES = ['CCc1nc(CCCC(=O)Nc2ccc(F)cc2F)cs1', 'CN(C)c1ccc(C(=O)Nc2ccc(Cl)cc2Cl)cc1', 'CN(C)c1ccc(C(=O)Nc2ccc(Cl)cc2Cl)cc1']\n",
    "\n",
    "SMARTS = Chem.MolFromSmarts('[*]!@-[*]')\n",
    "\n",
    "class MoleculeMatcher:\n",
    "    def __init__(self, smarts):\n",
    "        self.smarts = smarts\n",
    "    def get_matches_wrong(self, mol):\n",
    "        \"\"\"\n",
    "        mol: a mol object\n",
    "        return: a list of (atom1, atom2) pairs that can cut the mol between atom1 and atom2\n",
    "        \"\"\"\n",
    "        matches = set()\n",
    "        matches |= set(tuple(sorted(match)) for match in mol.GetSubstructMatches(self.smarts))\n",
    "\n",
    "        return matches\n",
    "\n",
    "\n",
    "\n",
    "    def get_matches_corrected(self, mol):\n",
    "        \"\"\"\n",
    "        mol: a mol object\n",
    "        return: a list of (atom1, atom2) pairs that can cut the mol between atom1 and atom2\n",
    "        \"\"\"\n",
    "        matches = set()\n",
    "        matches = set(tuple(sorted(match)) for match in mol.GetSubstructMatches(self.smarts))\n",
    "\n",
    "        return matches\n",
    "\n",
    "\n",
    "\n",
    "\n",
    "# Create an instance of the MoleculeMatcher with the specified SMARTS pattern\n",
    "matcher = MoleculeMatcher(SMARTS)\n",
    "\n",
    "# Process each SMILES string\n",
    "for smiles in tqdm(SMILES, desc=\"Processing SMILES\"):\n",
    "    mol = Chem.MolFromSmiles(smiles)\n",
    "    if mol:\n",
    "        wrong_matches = matcher.get_matches_wrong(mol)\n",
    "        corrected_matches = matcher.get_matches_corrected(mol)\n",
    "        if wrong_matches == corrected_matches:\n",
    "            print(f\"SMILES: {smiles}\")\n",
    "            print(\"Matches by wrong function: \", wrong_matches)\n",
    "            print(\"Matches by corrected function: \", corrected_matches)\n",
    "            print(\"Results are the same:\", wrong_matches == corrected_matches)\n",
    "    else:\n",
    "        print(f\"Could not parse SMILES: {smiles}\")"
   ]
  }
 ],
 "metadata": {
  "kernelspec": {
   "display_name": "Python 3",
   "language": "python",
   "name": "python3"
  },
  "language_info": {
   "codemirror_mode": {
    "name": "ipython",
    "version": 3
   },
   "file_extension": ".py",
   "mimetype": "text/x-python",
   "name": "python",
   "nbconvert_exporter": "python",
   "pygments_lexer": "ipython3",
   "version": "3.8.19"
  }
 },
 "nbformat": 4,
 "nbformat_minor": 5
}
